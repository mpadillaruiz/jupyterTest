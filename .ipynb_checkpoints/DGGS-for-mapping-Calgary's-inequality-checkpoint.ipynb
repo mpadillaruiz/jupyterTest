{
 "cells": [
  {
   "cell_type": "markdown",
   "metadata": {},
   "source": [
    "# DGGS for Mapping Calgary's Inequality"
   ]
  },
  {
   "cell_type": "markdown",
   "metadata": {},
   "source": [
    "H3 is a geospatial indexing system using a hexagonal grid that can be (approximately) subdivided into finer and finer hexagonal grids. One of the applications of hexagons is to be able to combine different datasets with different geographic shapes and forms, to a common reference system. This way the data is ready for analysis."
   ]
  },
  {
   "cell_type": "markdown",
   "metadata": {},
   "source": [
    "Through this notebook we are going to use the open-sourced [H3 DGGS library](https://h3geo.org/) and its [Python bindings](https://github.com/uber/h3-py), along with the [ArcGIS Python API](https://developers.arcgis.com/python/), to convert Geospatial data into a DGGS system and publish it to our ArcGIS online account. In order to read, interact, and write spatial data from and to our ArcGIS online account, we are going to use the [Spatially Enabled Dataframe object](https://developers.arcgis.com/python/guide/introduction-to-the-spatially-enabled-dataframe/) from the ArcGIS Python API."
   ]
  },
  {
   "cell_type": "markdown",
   "metadata": {},
   "source": [
    "The notebook is structured into three sections: \n",
    "- The [first section](#DGGS-Hexagons-Generation) generates the DGGS hexagons for multiple resolutions from both polygons and raster input data.\n",
    "- The [second section]() publishes the hexagons generated datasets into an ArcGIS online account.\n",
    "- The [third section](#Introduction-to-Spatially-Enabled-Dataframes) presents an appendix introduction to Spatially Enabled Dataframes, a class from the ArcGIS Python API that is used within this notebook."
   ]
  },
  {
   "cell_type": "markdown",
   "metadata": {},
   "source": [
    "## DGGS Hexagons Generation"
   ]
  },
  {
   "cell_type": "markdown",
   "metadata": {},
   "source": [
    "We are going to generate DGGS hexagons for multiple resolutions from the following input data:\n",
    "- Ward Polygons containing attributes for each ward.\n",
    "- Raster input data that contains the distances to different public facilities in each pixel.\n",
    "\n",
    "We are going to use [Geopandas](https://geopandas.org/docs/user_guide/io.html) and [Shapely](https://shapely.readthedocs.io/en/stable/manual.html) for geospatial data and geometry manipulation, [matplotlib](https://matplotlib.org/) for plotting, and the [H3 Python bindings](https://github.com/uber/h3-py) for the DGGS generation."
   ]
  },
  {
   "cell_type": "markdown",
   "metadata": {},
   "source": [
    "To map this data into a DGGS, we need to define a list of resolutions to generate a layer of hexagons per resolution level. We define levels 7 to 10. You may change this values if you want to see different results."
   ]
  },
  {
   "cell_type": "code",
   "execution_count": 1,
   "metadata": {},
   "outputs": [],
   "source": [
    "resolutions=[7,8,9,10]"
   ]
  },
  {
   "cell_type": "markdown",
   "metadata": {},
   "source": [
    "Now were are going to define a set of functions to perform the Hexagons generation."
   ]
  },
  {
   "cell_type": "markdown",
   "metadata": {},
   "source": [
    "###### Helper function: plot"
   ]
  },
  {
   "cell_type": "markdown",
   "metadata": {},
   "source": [
    "This function will plot a geodataframe based on a metric column and lat and long values."
   ]
  },
  {
   "cell_type": "code",
   "execution_count": 2,
   "metadata": {},
   "outputs": [],
   "source": [
    "#Functions\n",
    "def plot_scatter(df, metric_col, x='lng', y='lat', marker='.', alpha=1, figsize=(16,12), colormap='viridis'):    \n",
    "    df.plot.scatter(x=x, y=y, c=metric_col, title=metric_col\n",
    "                    , edgecolors='none', colormap=colormap, marker=marker, alpha=alpha, figsize=figsize);\n",
    "    plt.xticks([], []); plt.yticks([], [])"
   ]
  },
  {
   "cell_type": "markdown",
   "metadata": {},
   "source": [
    "###### calc_hex_pol function"
   ]
  },
  {
   "cell_type": "markdown",
   "metadata": {},
   "source": [
    "The calculate hexagons function will generate an hexagon Geodataframe from an input polygon geodataframe and a specific resolution level. It will then intersect the centroid of each hexagon with the polygons geodataframe to add the polygons attributes to the hexagons geodataframe"
   ]
  },
  {
   "cell_type": "code",
   "execution_count": 3,
   "metadata": {},
   "outputs": [],
   "source": [
    "import geopandas\n",
    "from shapely.geometry import mapping\n",
    "from shapely.ops import cascaded_union#, unary_union\n",
    "import matplotlib.pyplot as plt\n",
    "import h3\n",
    "\n",
    "def calc_hex_pol(res,gdf):\n",
    "\n",
    "    # Unify the polygons\n",
    "    union_poly = cascaded_union(gdf.geometry)\n",
    "    \n",
    "    # Find the hexs within the ward boundaries using PolyFill\n",
    "    hex_list=[]\n",
    "\n",
    "    temp  = mapping(union_poly)\n",
    "    temp['coordinates']=[[[j[1],j[0]] for j in i] for i in temp['coordinates']]  \n",
    "    hex_list.extend(h3.polyfill(temp,res))\n",
    "\n",
    "    # create hex dataframe\n",
    "    hex_col = 'hex{}'.format(res)\n",
    "    dfh = pd.DataFrame(hex_list,columns=[hex_col])\n",
    "    print('Sanity Check\\number of hexagons:', len(hex_list))\n",
    "    print('number of duplicates:', len(hex_list) - len(dfh.drop_duplicates()))\n",
    "\n",
    "    # add lat & lng of center of hex \n",
    "    dfh['lat']=dfh[hex_col].apply(lambda x: h3.h3_to_geo(x)[0])\n",
    "    dfh['lng']=dfh[hex_col].apply(lambda x: h3.h3_to_geo(x)[1])\n",
    "    \n",
    "    # create Point object based on hex latlng\n",
    "    gdf2 = geopandas.GeoDataFrame(\n",
    "        dfh, geometry=geopandas.points_from_xy(dfh.lng, dfh.lat), crs=\"EPSG:4326\")\n",
    "\n",
    "    # Intersect Hex Point with Polygon to add the polygons attributes to the hex geodataframe\n",
    "    df_ct = geopandas.tools.sjoin(gdf, gdf2, how=\"inner\")\n",
    "    \n",
    "    #Assigns resolution attribute to the dataframe\n",
    "    df_ct.attrs['resolution'] = res\n",
    "    \n",
    "    return df_ct"
   ]
  },
  {
   "cell_type": "markdown",
   "metadata": {},
   "source": [
    "###### calc_hex_raster function"
   ]
  },
  {
   "cell_type": "markdown",
   "metadata": {},
   "source": [
    "The calculate raster function will generate an hexagon Geodataframe from an input XYZ csv file representing a raster dataset with lat, long and z value (distances in this case). It will then calculate the average distance value per hexagon, by intersecting each hexagon with the input data. "
   ]
  },
  {
   "cell_type": "code",
   "execution_count": 4,
   "metadata": {},
   "outputs": [],
   "source": [
    "import geopandas\n",
    "from shapely.geometry import mapping\n",
    "from shapely.ops import cascaded_union#, unary_union\n",
    "import matplotlib.pyplot as plt\n",
    "import h3\n",
    "\n",
    "def calc_hex_raster(res,df,col):\n",
    "\n",
    "    hex_col = 'hex'+str(res)\n",
    "\n",
    "    # find hexs containing the points\n",
    "    df[hex_col] = df.apply(lambda x: h3.geo_to_h3(x.lat,x.lng,res),1)\n",
    "    \n",
    "    # calculate elevation average per hex\n",
    "    df_dem = df.groupby(hex_col)[col].mean().to_frame(col).reset_index()\n",
    "    \n",
    "    print('Sanity Check\\nnumber of hexagons:', len(df_dem))\n",
    "    print('number of duplicates:', len(df_dem) - len(df_dem.drop_duplicates()))\n",
    "\n",
    "    #find center of hex for visualization\n",
    "    df_dem['lat'] = df_dem[hex_col].apply(lambda x: h3.h3_to_geo(x)[0])\n",
    "    df_dem['lng'] = df_dem[hex_col].apply(lambda x: h3.h3_to_geo(x)[1])\n",
    "    \n",
    "    #Assigns resolution attribute to the dataframe\n",
    "    df_dem.attrs['resolution'] = res\n",
    "    \n",
    "    return df_dem"
   ]
  },
  {
   "cell_type": "markdown",
   "metadata": {},
   "source": [
    "### Polygons to Hexagons"
   ]
  },
  {
   "cell_type": "markdown",
   "metadata": {},
   "source": [
    "We are going to first inport the ward polygons Shapefile using the Geopandas [read_file](https://geopandas.org/docs/user_guide/io.html) function. This will generate a GeoDataFrame from the file."
   ]
  },
  {
   "cell_type": "code",
   "execution_count": 5,
   "metadata": {},
   "outputs": [],
   "source": [
    "from geopandas import read_file \n",
    "\n",
    "# Define the URL\n",
    "data = \"./data/vector/Census_by_ward_final.shp\"\n",
    "\n",
    "# Read file from URL\n",
    "polGDF = read_file(data)"
   ]
  },
  {
   "cell_type": "markdown",
   "metadata": {},
   "source": [
    "We will use the previosly defined calc_hex_pol function, and apply this function for every resolution defined into the resoltions array. The results will be stored into a list of hexagons GDFs. The function takes as input the resolution level and the polygons GeoDataFrame."
   ]
  },
  {
   "cell_type": "code",
   "execution_count": 6,
   "metadata": {
    "scrolled": true
   },
   "outputs": [
    {
     "name": "stdout",
     "output_type": "stream",
     "text": [
      "Sanity Check\n",
      "umber of hexagons: 172\n",
      "number of duplicates: 0\n",
      "Sanity Check\n",
      "umber of hexagons: 1202\n",
      "number of duplicates: 0\n",
      "Sanity Check\n",
      "umber of hexagons: 8417\n",
      "number of duplicates: 0\n",
      "Sanity Check\n",
      "umber of hexagons: 58899\n",
      "number of duplicates: 0\n"
     ]
    }
   ],
   "source": [
    "import pandas as pd\n",
    "\n",
    "polGDFs=[]\n",
    "\n",
    "#Loop through resolutions\n",
    "for res in resolutions:\n",
    "    #Calculate hexagons gdf and append to list\n",
    "    tmpDF=calc_hex_pol(res,polGDF)\n",
    "    polGDFs.append(tmpDF)"
   ]
  },
  {
   "cell_type": "markdown",
   "metadata": {},
   "source": [
    "We can check the data generated at resolution 7."
   ]
  },
  {
   "cell_type": "code",
   "execution_count": 7,
   "metadata": {},
   "outputs": [
    {
     "name": "stdout",
     "output_type": "stream",
     "text": [
      "      Ward  Resident     Male   Female  Dwelling  Household  Employed  \\\n",
      "0  WARD 11   82636.0  40280.0  42356.0   36800.0    45465.0   42125.0   \n",
      "0  WARD 11   82636.0  40280.0  42356.0   36800.0    45465.0   42125.0   \n",
      "0  WARD 11   82636.0  40280.0  42356.0   36800.0    45465.0   42125.0   \n",
      "0  WARD 11   82636.0  40280.0  42356.0   36800.0    45465.0   42125.0   \n",
      "0  WARD 11   82636.0  40280.0  42356.0   36800.0    45465.0   42125.0   \n",
      "\n",
      "   Pre_school  Ownership  Age_0_4  ...      Top2_Count  Top3_Count  \\\n",
      "0        5902    22800.0     4887  ...  United Kingdom       China   \n",
      "0        5902    22800.0     4887  ...  United Kingdom       China   \n",
      "0        5902    22800.0     4887  ...  United Kingdom       China   \n",
      "0        5902    22800.0     4887  ...  United Kingdom       China   \n",
      "0        5902    22800.0     4887  ...  United Kingdom       China   \n",
      "\n",
      "      Top4_Count  Top5_Count  Avg_income  \\\n",
      "0  United States       India     73171.8   \n",
      "0  United States       India     73171.8   \n",
      "0  United States       India     73171.8   \n",
      "0  United States       India     73171.8   \n",
      "0  United States       India     73171.8   \n",
      "\n",
      "                                            geometry  index_right  \\\n",
      "0  POLYGON ((-114.11815 51.02390, -114.11791 51.0...           17   \n",
      "0  POLYGON ((-114.11815 51.02390, -114.11791 51.0...          111   \n",
      "0  POLYGON ((-114.11815 51.02390, -114.11791 51.0...          102   \n",
      "0  POLYGON ((-114.11815 51.02390, -114.11791 51.0...           92   \n",
      "0  POLYGON ((-114.11815 51.02390, -114.11791 51.0...           29   \n",
      "\n",
      "              hex7        lat         lng  \n",
      "0  8712ccc21ffffff  50.952920 -114.129163  \n",
      "0  8712ccd52ffffff  50.964740 -114.102377  \n",
      "0  8712ccc25ffffff  50.974513 -114.133617  \n",
      "0  8712ccd50ffffff  50.976558 -114.075568  \n",
      "0  8712ccd56ffffff  50.986338 -114.106817  \n",
      "\n",
      "[5 rows x 45 columns]\n"
     ]
    }
   ],
   "source": [
    "print(polGDFs[0].head())"
   ]
  },
  {
   "cell_type": "markdown",
   "metadata": {},
   "source": [
    "### Raster to Hexagons"
   ]
  },
  {
   "cell_type": "markdown",
   "metadata": {},
   "source": [
    "We will use the previosly defined calc_hex_raster function, and apply this function for every resolution defined into the resoltions array. Note that we are looping through the data/raster folder which contains all the XYZ csv files related to distances to public facilities:\n",
    "- Public art\n",
    "- Public libraries\n",
    "- Playgrounds\n",
    "- Recreation facilities\n",
    "- Public schools\n",
    "\n",
    "There is an additional step to do compared to the Polygon-to-Hexagon section. Within the files loop, we will merge all the files into one GeoDataFrame per resolution, since the hexagons generated are the same, only the distance attribute is different. The results will be stored into a list of hexagons GDFs."
   ]
  },
  {
   "cell_type": "code",
   "execution_count": 8,
   "metadata": {
    "scrolled": false
   },
   "outputs": [
    {
     "name": "stdout",
     "output_type": "stream",
     "text": [
      "Calculating file raster\\Art_dis at 7 resolution\n",
      "Sanity Check\n",
      "number of hexagons: 213\n",
      "number of duplicates: 0\n",
      "Calculating file raster\\Library_dis at 7 resolution\n",
      "Sanity Check\n",
      "number of hexagons: 213\n",
      "number of duplicates: 0\n",
      "Calculating file raster\\Playground_dis at 7 resolution\n",
      "Sanity Check\n",
      "number of hexagons: 213\n",
      "number of duplicates: 0\n",
      "Calculating file raster\\Recreation_dis at 7 resolution\n",
      "Sanity Check\n",
      "number of hexagons: 213\n",
      "number of duplicates: 0\n",
      "Calculating file raster\\School_dis at 7 resolution\n",
      "Sanity Check\n",
      "number of hexagons: 213\n",
      "number of duplicates: 0\n",
      "Calculating file raster\\Art_dis at 8 resolution\n",
      "Sanity Check\n",
      "number of hexagons: 1318\n",
      "number of duplicates: 0\n",
      "Calculating file raster\\Library_dis at 8 resolution\n",
      "Sanity Check\n",
      "number of hexagons: 1318\n",
      "number of duplicates: 0\n",
      "Calculating file raster\\Playground_dis at 8 resolution\n",
      "Sanity Check\n",
      "number of hexagons: 1318\n",
      "number of duplicates: 0\n",
      "Calculating file raster\\Recreation_dis at 8 resolution\n",
      "Sanity Check\n",
      "number of hexagons: 1318\n",
      "number of duplicates: 0\n",
      "Calculating file raster\\School_dis at 8 resolution\n",
      "Sanity Check\n",
      "number of hexagons: 1318\n",
      "number of duplicates: 0\n",
      "Calculating file raster\\Art_dis at 9 resolution\n",
      "Sanity Check\n",
      "number of hexagons: 8705\n",
      "number of duplicates: 0\n",
      "Calculating file raster\\Library_dis at 9 resolution\n",
      "Sanity Check\n",
      "number of hexagons: 8705\n",
      "number of duplicates: 0\n",
      "Calculating file raster\\Playground_dis at 9 resolution\n",
      "Sanity Check\n",
      "number of hexagons: 8705\n",
      "number of duplicates: 0\n",
      "Calculating file raster\\Recreation_dis at 9 resolution\n",
      "Sanity Check\n",
      "number of hexagons: 8705\n",
      "number of duplicates: 0\n",
      "Calculating file raster\\School_dis at 9 resolution\n",
      "Sanity Check\n",
      "number of hexagons: 8705\n",
      "number of duplicates: 0\n",
      "Calculating file raster\\Art_dis at 10 resolution\n",
      "Sanity Check\n",
      "number of hexagons: 59482\n",
      "number of duplicates: 0\n",
      "Calculating file raster\\Library_dis at 10 resolution\n",
      "Sanity Check\n",
      "number of hexagons: 59482\n",
      "number of duplicates: 0\n",
      "Calculating file raster\\Playground_dis at 10 resolution\n",
      "Sanity Check\n",
      "number of hexagons: 59482\n",
      "number of duplicates: 0\n",
      "Calculating file raster\\Recreation_dis at 10 resolution\n",
      "Sanity Check\n",
      "number of hexagons: 59482\n",
      "number of duplicates: 0\n",
      "Calculating file raster\\School_dis at 10 resolution\n",
      "Sanity Check\n",
      "number of hexagons: 59482\n",
      "number of duplicates: 0\n"
     ]
    }
   ],
   "source": [
    "import os\n",
    "import glob\n",
    "\n",
    "dictdems=[]\n",
    "distancesGDF=[]\n",
    "\n",
    "#Loop through resolutions\n",
    "for i in range(len(resolutions)):\n",
    "    fileN=0\n",
    "    for filepath in glob.glob(os.path.join('./data/raster/', '*.csv')):\n",
    "        \n",
    "        #Define column names\n",
    "        col=filepath.split(\"/\")[-1].split(\".\")[0]\n",
    "        \n",
    "        print(f\"Calculating file {col} at {resolutions[i]} resolution\")\n",
    "        \n",
    "        # read xyz points\n",
    "        df = pd.read_csv(filepath,sep=',',header=1,names=['lng','lat',col])\n",
    "        \n",
    "        #Merge files based on hexagon column\n",
    "        if(fileN==0):\n",
    "            dfu=calc_hex_raster(resolutions[i],df,col)\n",
    "        else:\n",
    "            dfu = dfu.merge(calc_hex_raster(resolutions[i],df,col))\n",
    "            \n",
    "        fileN += 1 \n",
    "                            \n",
    "    dfu.attrs['resolution'] = resolutions[i]\n",
    "    distancesGDF.append(dfu)"
   ]
  },
  {
   "cell_type": "markdown",
   "metadata": {},
   "source": [
    "We can check part of the data generated at resolution 7:"
   ]
  },
  {
   "cell_type": "code",
   "execution_count": 9,
   "metadata": {},
   "outputs": [
    {
     "name": "stdout",
     "output_type": "stream",
     "text": [
      "              hex7  raster\\Art_dis        lat         lng  raster\\Library_dis  \\\n",
      "0  8712c1a69ffffff     4876.859160  51.131200 -114.312741         7743.666096   \n",
      "1  8712cc890ffffff     4132.135802  50.907825 -113.857079        13354.244019   \n",
      "2  8712cc892ffffff     4693.626022  50.896063 -113.883948        12602.275919   \n",
      "3  8712cc893ffffff     6129.301989  50.886213 -113.852780        14044.195891   \n",
      "4  8712cc894ffffff     2814.042813  50.929440 -113.861383        12235.133755   \n",
      "\n",
      "   raster\\Playground_dis  raster\\Recreation_dis  raster\\School_dis  \n",
      "0            3373.987229            5159.788677        3735.997552  \n",
      "1            3367.041326            6039.990168        4185.048080  \n",
      "2            1859.501760            4753.047267        2965.834513  \n",
      "3            3147.556250            5810.862536        4551.489622  \n",
      "4            2870.303079            5528.644850        4353.959951  \n"
     ]
    }
   ],
   "source": [
    "print(distancesGDF[0].head())"
   ]
  },
  {
   "cell_type": "markdown",
   "metadata": {},
   "source": [
    "### Merging Raster and Polygons data"
   ]
  },
  {
   "cell_type": "markdown",
   "metadata": {},
   "source": [
    "We have now two list of GeoDataFrames that contains a GeoDataFrame per DGGS resolution.\n",
    "- polGDFs: list of polygons GDFs\n",
    "- distancesGDF: list of distances GDFs\n",
    "\n",
    "We need to perform a spatial merge between each resolution, to end up with obe only set of hexagons per resolution. This is because the spatial extent of the raster data is different from the polygons, therefore the Hexagons generated were different. We also need the attribute data combined in the resulting hexagon layer per resolution."
   ]
  },
  {
   "cell_type": "code",
   "execution_count": 10,
   "metadata": {},
   "outputs": [],
   "source": [
    "mergedDFs=[]\n",
    "for i in range(len(resolutions)):\n",
    "    mergeDF = polGDFs[i].merge(distancesGDF[i])\n",
    "    mergeDF.attrs['resolution'] = resolutions[i]\n",
    "    mergedDFs.append(mergeDF)"
   ]
  },
  {
   "cell_type": "markdown",
   "metadata": {},
   "source": [
    "We can check resulting data at resolution 7."
   ]
  },
  {
   "cell_type": "code",
   "execution_count": 11,
   "metadata": {},
   "outputs": [
    {
     "name": "stdout",
     "output_type": "stream",
     "text": [
      "      Ward  Resident     Male   Female  Dwelling  Household  Employed  \\\n",
      "0  WARD 11   82636.0  40280.0  42356.0   36800.0    45465.0   42125.0   \n",
      "1  WARD 11   82636.0  40280.0  42356.0   36800.0    45465.0   42125.0   \n",
      "2  WARD 11   82636.0  40280.0  42356.0   36800.0    45465.0   42125.0   \n",
      "3  WARD 11   82636.0  40280.0  42356.0   36800.0    45465.0   42125.0   \n",
      "4  WARD 11   82636.0  40280.0  42356.0   36800.0    45465.0   42125.0   \n",
      "\n",
      "   Pre_school  Ownership  Age_0_4  ...  \\\n",
      "0        5902    22800.0     4887  ...   \n",
      "1        5902    22800.0     4887  ...   \n",
      "2        5902    22800.0     4887  ...   \n",
      "3        5902    22800.0     4887  ...   \n",
      "4        5902    22800.0     4887  ...   \n",
      "\n",
      "                                            geometry  index_right  \\\n",
      "0  POLYGON ((-114.11815 51.02390, -114.11791 51.0...           17   \n",
      "1  POLYGON ((-114.11815 51.02390, -114.11791 51.0...          111   \n",
      "2  POLYGON ((-114.11815 51.02390, -114.11791 51.0...          102   \n",
      "3  POLYGON ((-114.11815 51.02390, -114.11791 51.0...           92   \n",
      "4  POLYGON ((-114.11815 51.02390, -114.11791 51.0...           29   \n",
      "\n",
      "              hex7        lat         lng  raster\\Art_dis  raster\\Library_dis  \\\n",
      "0  8712ccc21ffffff  50.952920 -114.129163     1304.341651         3203.383060   \n",
      "1  8712ccd52ffffff  50.964740 -114.102377      889.997788         1331.960782   \n",
      "2  8712ccc25ffffff  50.974513 -114.133617     1778.124746         3413.682493   \n",
      "3  8712ccd50ffffff  50.976558 -114.075568      878.630688         1772.452143   \n",
      "4  8712ccd56ffffff  50.986338 -114.106817     1349.713437         2953.509922   \n",
      "\n",
      "   raster\\Playground_dis  raster\\Recreation_dis  raster\\School_dis  \n",
      "0             207.216014            1245.361440         495.908903  \n",
      "1             329.471629             660.005111         440.532785  \n",
      "2             427.647539             692.831761         966.337376  \n",
      "3             381.439089             573.440393         406.471684  \n",
      "4             510.433054             620.856178         936.412351  \n",
      "\n",
      "[5 rows x 50 columns]\n"
     ]
    }
   ],
   "source": [
    "print(mergedDFs[0].head())"
   ]
  },
  {
   "cell_type": "markdown",
   "metadata": {},
   "source": [
    "We also need to make sure we remove any potential hexagon duplicate:"
   ]
  },
  {
   "cell_type": "code",
   "execution_count": 12,
   "metadata": {},
   "outputs": [],
   "source": [
    "results=[]\n",
    "hexDFs=[]\n",
    "for dfh in mergedDFs:\n",
    "    hex_col = 'hex{}'.format(dfh.attrs['resolution'])\n",
    "    hexDF=dfh.drop_duplicates(subset=[hex_col])\n",
    "    hexDFs.append(hexDF)\n",
    "    hexIds = [x for x in hexDF[hex_col]]\n",
    "    result={\n",
    "        'resolution':dfh.attrs['resolution'],\n",
    "        'hexList':hexIds\n",
    "    }\n",
    "    results.append(result)"
   ]
  },
  {
   "cell_type": "code",
   "execution_count": 13,
   "metadata": {
    "scrolled": false
   },
   "outputs": [
    {
     "name": "stdout",
     "output_type": "stream",
     "text": [
      "4\n",
      "      Ward  Resident     Male   Female  Dwelling  Household  Employed  \\\n",
      "0  WARD 11   82636.0  40280.0  42356.0   36800.0    45465.0   42125.0   \n",
      "1  WARD 11   82636.0  40280.0  42356.0   36800.0    45465.0   42125.0   \n",
      "2  WARD 11   82636.0  40280.0  42356.0   36800.0    45465.0   42125.0   \n",
      "3  WARD 11   82636.0  40280.0  42356.0   36800.0    45465.0   42125.0   \n",
      "4  WARD 11   82636.0  40280.0  42356.0   36800.0    45465.0   42125.0   \n",
      "\n",
      "   Pre_school  Ownership  Age_0_4  ...  \\\n",
      "0        5902    22800.0     4887  ...   \n",
      "1        5902    22800.0     4887  ...   \n",
      "2        5902    22800.0     4887  ...   \n",
      "3        5902    22800.0     4887  ...   \n",
      "4        5902    22800.0     4887  ...   \n",
      "\n",
      "                                            geometry  index_right  \\\n",
      "0  POLYGON ((-114.11815 51.02390, -114.11791 51.0...           17   \n",
      "1  POLYGON ((-114.11815 51.02390, -114.11791 51.0...          111   \n",
      "2  POLYGON ((-114.11815 51.02390, -114.11791 51.0...          102   \n",
      "3  POLYGON ((-114.11815 51.02390, -114.11791 51.0...           92   \n",
      "4  POLYGON ((-114.11815 51.02390, -114.11791 51.0...           29   \n",
      "\n",
      "              hex7        lat         lng  raster\\Art_dis  raster\\Library_dis  \\\n",
      "0  8712ccc21ffffff  50.952920 -114.129163     1304.341651         3203.383060   \n",
      "1  8712ccd52ffffff  50.964740 -114.102377      889.997788         1331.960782   \n",
      "2  8712ccc25ffffff  50.974513 -114.133617     1778.124746         3413.682493   \n",
      "3  8712ccd50ffffff  50.976558 -114.075568      878.630688         1772.452143   \n",
      "4  8712ccd56ffffff  50.986338 -114.106817     1349.713437         2953.509922   \n",
      "\n",
      "   raster\\Playground_dis  raster\\Recreation_dis  raster\\School_dis  \n",
      "0             207.216014            1245.361440         495.908903  \n",
      "1             329.471629             660.005111         440.532785  \n",
      "2             427.647539             692.831761         966.337376  \n",
      "3             381.439089             573.440393         406.471684  \n",
      "4             510.433054             620.856178         936.412351  \n",
      "\n",
      "[5 rows x 50 columns]\n"
     ]
    }
   ],
   "source": [
    "print(len(results))\n",
    "print(hexDFs[0].head())"
   ]
  },
  {
   "cell_type": "markdown",
   "metadata": {},
   "source": [
    "### Generating hexagons geometry"
   ]
  },
  {
   "cell_type": "markdown",
   "metadata": {},
   "source": [
    "Until now we have just generated a Geodataframe set of hexagons that contain hexagons indexes and centroid coordinates. However, we need the actual hexagon geometry to be able to generate the hexagon layes.\n",
    "\n",
    "We are going to define a function to generate the hexagons list of coordinates:"
   ]
  },
  {
   "cell_type": "markdown",
   "metadata": {},
   "source": [
    "###### extract_hexagons_coord"
   ]
  },
  {
   "cell_type": "code",
   "execution_count": 14,
   "metadata": {},
   "outputs": [],
   "source": [
    "from h3 import h3\n",
    "\n",
    "def extract_hexagons_coord(hexagons, color=\"red\"):\n",
    "    \"\"\"\n",
    "    hexagons is a list of hexcluster. Each hexcluster is a list of hexagons. \n",
    "    eg. [[hex1, hex2], [hex3, hex4]]\n",
    "    \"\"\"\n",
    "    polygons = []\n",
    "    \n",
    "    for hex in hexagons:\n",
    "        polygons.append(h3.h3_set_to_multi_polygon([hex], geo_json=False))\n",
    "        \n",
    "    return polygons"
   ]
  },
  {
   "cell_type": "markdown",
   "metadata": {},
   "source": [
    "Compute hexagons geometry from the resulting merged list:"
   ]
  },
  {
   "cell_type": "code",
   "execution_count": 15,
   "metadata": {},
   "outputs": [],
   "source": [
    "hexagons=[]\n",
    "for result in results:\n",
    "    hexagons.append(extract_hexagons_coord(result['hexList']))"
   ]
  },
  {
   "cell_type": "markdown",
   "metadata": {},
   "source": [
    "Number of exagons at level 7"
   ]
  },
  {
   "cell_type": "code",
   "execution_count": 16,
   "metadata": {},
   "outputs": [
    {
     "name": "stdout",
     "output_type": "stream",
     "text": [
      "172\n"
     ]
    }
   ],
   "source": [
    "print(len(hexagons[0]))"
   ]
  },
  {
   "cell_type": "markdown",
   "metadata": {},
   "source": [
    "And we can now create polygons from the list of hexagon coordinates:"
   ]
  },
  {
   "cell_type": "code",
   "execution_count": 17,
   "metadata": {},
   "outputs": [],
   "source": [
    "from shapely.geometry import Polygon\n",
    "\n",
    "polLists=[]\n",
    "for hexagon in hexagons:\n",
    "    polList =[]\n",
    "    for p in hexagon:\n",
    "        for t in p:\n",
    "            pol=[]\n",
    "            for x in t:\n",
    "                for c in x:\n",
    "                    cc=(c[1],c[0])\n",
    "                    pol.append(cc)\n",
    "            polList.append(Polygon(pol))\n",
    "    polLists.append(polList)"
   ]
  },
  {
   "cell_type": "markdown",
   "metadata": {},
   "source": [
    "## Publishing hexagons to ArcGIS online"
   ]
  },
  {
   "cell_type": "markdown",
   "metadata": {},
   "source": [
    "We are going to create a Spatially Enabled Dataset from each Hexagon GeoDataFrame. We will also plot the Hexagons layers for visualization purposes."
   ]
  },
  {
   "cell_type": "code",
   "execution_count": 18,
   "metadata": {},
   "outputs": [
    {
     "name": "stdout",
     "output_type": "stream",
     "text": [
      "{'resolution': 7}\n",
      "{'resolution': 8}\n",
      "{'resolution': 9}\n",
      "{'resolution': 10}\n"
     ]
    },
    {
     "data": {
      "image/png": "[encoded data removed]",
      "text/plain": [
       "<Figure size 432x288 with 1 Axes>"
      ]
     },
     "metadata": {
      "needs_background": "light"
     },
     "output_type": "display_data"
    },
    {
     "data": {
      "image/png": "[encoded data removed]",
      "text/plain": [
       "<Figure size 432x288 with 1 Axes>"
      ]
     },
     "metadata": {
      "needs_background": "light"
     },
     "output_type": "display_data"
    },
    {
     "data": {
      "image/png": "[encoded data removed]",
      "text/plain": [
       "<Figure size 432x288 with 1 Axes>"
      ]
     },
     "metadata": {
      "needs_background": "light"
     },
     "output_type": "display_data"
    },
    {
     "data": {
      "image/png": "[encoded data removed]",
      "text/plain": [
       "<Figure size 432x288 with 1 Axes>"
      ]
     },
     "metadata": {
      "needs_background": "light"
     },
     "output_type": "display_data"
    }
   ],
   "source": [
    "import pandas as pd\n",
    "from arcgis.features import GeoAccessor, GeoSeriesAccessor\n",
    "\n",
    "sdfs=[]\n",
    "gdfHexs=[]\n",
    "for i in range(len(polLists)):\n",
    "    print(hexDFs[i].attrs)\n",
    "    gdfHex = geopandas.GeoDataFrame(\n",
    "    hexDFs[i], geometry=polLists[i], crs=\"EPSG:4326\")\n",
    "    gdfHexs.append(gdfHex)\n",
    "    gdfHex.plot()\n",
    "    plt.title(f\"Hexagons at level {hexDFs[i].attrs['resolution']}\")\n",
    "    sdf=GeoAccessor.from_geodataframe(gdfHex)\n",
    "    sdf.attrs=hexDFs[i].attrs\n",
    "    sdfs.append(sdf)"
   ]
  },
  {
   "cell_type": "markdown",
   "metadata": {},
   "source": [
    "We can then upload the Hexagons SDFs to ArcGIS Online and publish them as Feature Layers. We need to first log in into our ArcGIS Online account:"
   ]
  },
  {
   "cell_type": "code",
   "execution_count": 19,
   "metadata": {},
   "outputs": [
    {
     "name": "stdout",
     "output_type": "stream",
     "text": [
      "Enter password: ········\n"
     ]
    }
   ],
   "source": [
    "from arcgis.gis import GIS\n",
    "    \n",
    "# connect as an anonymous user\n",
    "gis = GIS(\"https://ucalgary.maps.arcgis.com\", username=\"mingke.li_ucalgary\")\n",
    "\n",
    "user = gis.users.get('mingke.li_ucalgary')"
   ]
  },
  {
   "cell_type": "markdown",
   "metadata": {},
   "source": [
    "Using our GIS object, we can import the SDFs into ArcGIS Online."
   ]
  },
  {
   "cell_type": "code",
   "execution_count": 20,
   "metadata": {},
   "outputs": [
    {
     "name": "stdout",
     "output_type": "stream",
     "text": [
      "Uploading hexagons at level 7\n",
      "Done with hexagons at level 7\n",
      "Uploading hexagons at level 8\n",
      "Done with hexagons at level 8\n",
      "Uploading hexagons at level 9\n",
      "Done with hexagons at level 9\n",
      "Uploading hexagons at level 10\n",
      "Done with hexagons at level 10\n"
     ]
    }
   ],
   "source": [
    "for sdf in sdfs:\n",
    "    print(f\"Uploading hexagons at level {sdf.attrs['resolution']}\")\n",
    "    gis.content.import_data(df=sdf, title=f\"Hexagons{sdf.attrs['resolution']}\", folder=\"data\")\n",
    "    print(f\"Done with hexagons at level {sdf.attrs['resolution']}\")"
   ]
  },
  {
   "cell_type": "markdown",
   "metadata": {},
   "source": [
    "## Introduction to Spatially Enabled Dataframes"
   ]
  },
  {
   "cell_type": "markdown",
   "metadata": {},
   "source": [
    "We present an introduction to [Spatially Enabled Dataframes](https://developers.arcgis.com/python/guide/introduction-to-the-spatially-enabled-dataframe/) as reference. In this section, we are going to use [pandas](https://pandas.pydata.org/), [arcgis.feature module](https://developers.arcgis.com/python/api-reference/arcgis.features.toc.html#:~:text=represented%20as%20features.-,The%20arcgis.,can%20be%20represented%20as%20features.) and [arcgis.gis module](https://developers.arcgis.com/python/api-reference/arcgis.gis.toc.html)."
   ]
  },
  {
   "cell_type": "markdown",
   "metadata": {},
   "source": [
    "###  Reading wards Feature class from file"
   ]
  },
  {
   "cell_type": "markdown",
   "metadata": {},
   "source": [
    "We will first read the ward polygons dataset from a Shapefile stored in a system folder."
   ]
  },
  {
   "cell_type": "code",
   "execution_count": 20,
   "metadata": {},
   "outputs": [],
   "source": [
    "import pandas as pd\n",
    "from arcgis.features import GeoAccessor, GeoSeriesAccessor\n",
    "\n",
    "data = './data/vector/Census_by_ward_final.shp'\n",
    "\n",
    "sdf = pd.DataFrame.spatial.from_featureclass(data)"
   ]
  },
  {
   "cell_type": "markdown",
   "metadata": {},
   "source": [
    "We can check what data is contained in the Shapefile:"
   ]
  },
  {
   "cell_type": "code",
   "execution_count": 21,
   "metadata": {
    "scrolled": true
   },
   "outputs": [
    {
     "data": {
      "text/html": [
       "<div>\n",
       "<style scoped>\n",
       "    .dataframe tbody tr th:only-of-type {\n",
       "        vertical-align: middle;\n",
       "    }\n",
       "\n",
       "    .dataframe tbody tr th {\n",
       "        vertical-align: top;\n",
       "    }\n",
       "\n",
       "    .dataframe thead th {\n",
       "        text-align: right;\n",
       "    }\n",
       "</style>\n",
       "<table border=\"1\" class=\"dataframe\">\n",
       "  <thead>\n",
       "    <tr style=\"text-align: right;\">\n",
       "      <th></th>\n",
       "      <th>index</th>\n",
       "      <th>Ward</th>\n",
       "      <th>Resident</th>\n",
       "      <th>Male</th>\n",
       "      <th>Female</th>\n",
       "      <th>Dwelling</th>\n",
       "      <th>Household</th>\n",
       "      <th>Employed</th>\n",
       "      <th>Pre_school</th>\n",
       "      <th>Ownership</th>\n",
       "      <th>...</th>\n",
       "      <th>Refugees</th>\n",
       "      <th>Other</th>\n",
       "      <th>Top1_Count</th>\n",
       "      <th>Top2_Count</th>\n",
       "      <th>Top3_Count</th>\n",
       "      <th>Top4_Count</th>\n",
       "      <th>Top5_Count</th>\n",
       "      <th>Avg_income</th>\n",
       "      <th>SHAPE</th>\n",
       "      <th>OBJECTID</th>\n",
       "    </tr>\n",
       "  </thead>\n",
       "  <tbody>\n",
       "    <tr>\n",
       "      <th>0</th>\n",
       "      <td>0</td>\n",
       "      <td>WARD 11</td>\n",
       "      <td>82636.0</td>\n",
       "      <td>40280.0</td>\n",
       "      <td>42356.0</td>\n",
       "      <td>36800.0</td>\n",
       "      <td>45465.0</td>\n",
       "      <td>42125.0</td>\n",
       "      <td>5902</td>\n",
       "      <td>22800.0</td>\n",
       "      <td>...</td>\n",
       "      <td>2055.0</td>\n",
       "      <td>190</td>\n",
       "      <td>Philippines</td>\n",
       "      <td>United Kingdom</td>\n",
       "      <td>China</td>\n",
       "      <td>United States</td>\n",
       "      <td>India</td>\n",
       "      <td>73171.8</td>\n",
       "      <td>{\"rings\": [[[-114.11815449933067, 51.023899160...</td>\n",
       "      <td>0</td>\n",
       "    </tr>\n",
       "    <tr>\n",
       "      <th>1</th>\n",
       "      <td>1</td>\n",
       "      <td>WARD 9</td>\n",
       "      <td>76533.0</td>\n",
       "      <td>38922.0</td>\n",
       "      <td>37611.0</td>\n",
       "      <td>37174.0</td>\n",
       "      <td>37490.0</td>\n",
       "      <td>41935.0</td>\n",
       "      <td>5934</td>\n",
       "      <td>20182.0</td>\n",
       "      <td>...</td>\n",
       "      <td>5200.0</td>\n",
       "      <td>155</td>\n",
       "      <td>Philippines</td>\n",
       "      <td>Viet Nam</td>\n",
       "      <td>United Kingdom</td>\n",
       "      <td>China</td>\n",
       "      <td>Ethiopia</td>\n",
       "      <td>45782.0</td>\n",
       "      <td>{\"rings\": [[[-114.04828320810356, 51.084967480...</td>\n",
       "      <td>1</td>\n",
       "    </tr>\n",
       "    <tr>\n",
       "      <th>2</th>\n",
       "      <td>2</td>\n",
       "      <td>WARD 2</td>\n",
       "      <td>94011.0</td>\n",
       "      <td>47052.0</td>\n",
       "      <td>46959.0</td>\n",
       "      <td>32970.0</td>\n",
       "      <td>27355.0</td>\n",
       "      <td>47733.0</td>\n",
       "      <td>8566</td>\n",
       "      <td>26941.0</td>\n",
       "      <td>...</td>\n",
       "      <td>2545.0</td>\n",
       "      <td>330</td>\n",
       "      <td>China</td>\n",
       "      <td>India</td>\n",
       "      <td>Philippines</td>\n",
       "      <td>Hong Kong</td>\n",
       "      <td>Pakistan</td>\n",
       "      <td>46090.8</td>\n",
       "      <td>{\"rings\": [[[-114.09457382562152, 51.197010129...</td>\n",
       "      <td>2</td>\n",
       "    </tr>\n",
       "    <tr>\n",
       "      <th>3</th>\n",
       "      <td>3</td>\n",
       "      <td>WARD 1</td>\n",
       "      <td>87565.0</td>\n",
       "      <td>43306.0</td>\n",
       "      <td>44259.0</td>\n",
       "      <td>34063.0</td>\n",
       "      <td>33570.0</td>\n",
       "      <td>42282.0</td>\n",
       "      <td>6628</td>\n",
       "      <td>24113.0</td>\n",
       "      <td>...</td>\n",
       "      <td>1435.0</td>\n",
       "      <td>145</td>\n",
       "      <td>China</td>\n",
       "      <td>United Kingdom</td>\n",
       "      <td>Philippines</td>\n",
       "      <td>India</td>\n",
       "      <td>United States</td>\n",
       "      <td>61786.0</td>\n",
       "      <td>{\"rings\": [[[-114.2486183805338, 51.1542194521...</td>\n",
       "      <td>3</td>\n",
       "    </tr>\n",
       "    <tr>\n",
       "      <th>4</th>\n",
       "      <td>4</td>\n",
       "      <td>WARD 8</td>\n",
       "      <td>86454.0</td>\n",
       "      <td>44482.0</td>\n",
       "      <td>41972.0</td>\n",
       "      <td>54490.0</td>\n",
       "      <td>43975.0</td>\n",
       "      <td>55614.0</td>\n",
       "      <td>5474</td>\n",
       "      <td>17755.0</td>\n",
       "      <td>...</td>\n",
       "      <td>3430.0</td>\n",
       "      <td>115</td>\n",
       "      <td>Philippines</td>\n",
       "      <td>United Kingdom</td>\n",
       "      <td>China</td>\n",
       "      <td>India</td>\n",
       "      <td>Ethiopia</td>\n",
       "      <td>64864.7</td>\n",
       "      <td>{\"rings\": [[[-114.17248939696805, 51.069554937...</td>\n",
       "      <td>4</td>\n",
       "    </tr>\n",
       "  </tbody>\n",
       "</table>\n",
       "<p>5 rows × 43 columns</p>\n",
       "</div>"
      ],
      "text/plain": [
       "   index     Ward  Resident     Male   Female  Dwelling  Household  Employed  \\\n",
       "0      0  WARD 11   82636.0  40280.0  42356.0   36800.0    45465.0   42125.0   \n",
       "1      1   WARD 9   76533.0  38922.0  37611.0   37174.0    37490.0   41935.0   \n",
       "2      2   WARD 2   94011.0  47052.0  46959.0   32970.0    27355.0   47733.0   \n",
       "3      3   WARD 1   87565.0  43306.0  44259.0   34063.0    33570.0   42282.0   \n",
       "4      4   WARD 8   86454.0  44482.0  41972.0   54490.0    43975.0   55614.0   \n",
       "\n",
       "   Pre_school  Ownership  ...  Refugees  Other   Top1_Count      Top2_Count  \\\n",
       "0        5902    22800.0  ...    2055.0    190  Philippines  United Kingdom   \n",
       "1        5934    20182.0  ...    5200.0    155  Philippines        Viet Nam   \n",
       "2        8566    26941.0  ...    2545.0    330        China           India   \n",
       "3        6628    24113.0  ...    1435.0    145        China  United Kingdom   \n",
       "4        5474    17755.0  ...    3430.0    115  Philippines  United Kingdom   \n",
       "\n",
       "       Top3_Count     Top4_Count     Top5_Count  Avg_income  \\\n",
       "0           China  United States          India     73171.8   \n",
       "1  United Kingdom          China       Ethiopia     45782.0   \n",
       "2     Philippines      Hong Kong       Pakistan     46090.8   \n",
       "3     Philippines          India  United States     61786.0   \n",
       "4           China          India       Ethiopia     64864.7   \n",
       "\n",
       "                                               SHAPE  OBJECTID  \n",
       "0  {\"rings\": [[[-114.11815449933067, 51.023899160...         0  \n",
       "1  {\"rings\": [[[-114.04828320810356, 51.084967480...         1  \n",
       "2  {\"rings\": [[[-114.09457382562152, 51.197010129...         2  \n",
       "3  {\"rings\": [[[-114.2486183805338, 51.1542194521...         3  \n",
       "4  {\"rings\": [[[-114.17248939696805, 51.069554937...         4  \n",
       "\n",
       "[5 rows x 43 columns]"
      ]
     },
     "execution_count": 21,
     "metadata": {},
     "output_type": "execute_result"
    }
   ],
   "source": [
    "sdf.head()"
   ]
  },
  {
   "cell_type": "markdown",
   "metadata": {},
   "source": [
    "### Interacting with Spatially Enabled Dataframes"
   ]
  },
  {
   "cell_type": "markdown",
   "metadata": {
    "scrolled": true
   },
   "source": [
    "We can interact with a Spatially Enabled Dataframe, as if they were [Pandas Dataframes](https://pandas.pydata.org/pandas-docs/stable/user_guide/dsintro.html). SDFs just insert a custom namespace called spatial into the Pandas DataFrame structure to give it spatial abilities. "
   ]
  },
  {
   "cell_type": "code",
   "execution_count": 22,
   "metadata": {
    "scrolled": true
   },
   "outputs": [
    {
     "data": {
      "text/html": [
       "<div>\n",
       "<style scoped>\n",
       "    .dataframe tbody tr th:only-of-type {\n",
       "        vertical-align: middle;\n",
       "    }\n",
       "\n",
       "    .dataframe tbody tr th {\n",
       "        vertical-align: top;\n",
       "    }\n",
       "\n",
       "    .dataframe thead th {\n",
       "        text-align: right;\n",
       "    }\n",
       "</style>\n",
       "<table border=\"1\" class=\"dataframe\">\n",
       "  <thead>\n",
       "    <tr style=\"text-align: right;\">\n",
       "      <th></th>\n",
       "      <th>Immigrant</th>\n",
       "      <th>SHAPE</th>\n",
       "    </tr>\n",
       "  </thead>\n",
       "  <tbody>\n",
       "    <tr>\n",
       "      <th>0</th>\n",
       "      <td>16630.0</td>\n",
       "      <td>{\"rings\": [[[-114.11815449933067, 51.023899160...</td>\n",
       "    </tr>\n",
       "    <tr>\n",
       "      <th>1</th>\n",
       "      <td>20590.0</td>\n",
       "      <td>{\"rings\": [[[-114.04828320810356, 51.084967480...</td>\n",
       "    </tr>\n",
       "    <tr>\n",
       "      <th>2</th>\n",
       "      <td>28135.0</td>\n",
       "      <td>{\"rings\": [[[-114.09457382562152, 51.197010129...</td>\n",
       "    </tr>\n",
       "    <tr>\n",
       "      <th>3</th>\n",
       "      <td>17535.0</td>\n",
       "      <td>{\"rings\": [[[-114.2486183805338, 51.1542194521...</td>\n",
       "    </tr>\n",
       "    <tr>\n",
       "      <th>4</th>\n",
       "      <td>17965.0</td>\n",
       "      <td>{\"rings\": [[[-114.17248939696805, 51.069554937...</td>\n",
       "    </tr>\n",
       "  </tbody>\n",
       "</table>\n",
       "</div>"
      ],
      "text/plain": [
       "   Immigrant                                              SHAPE\n",
       "0    16630.0  {\"rings\": [[[-114.11815449933067, 51.023899160...\n",
       "1    20590.0  {\"rings\": [[[-114.04828320810356, 51.084967480...\n",
       "2    28135.0  {\"rings\": [[[-114.09457382562152, 51.197010129...\n",
       "3    17535.0  {\"rings\": [[[-114.2486183805338, 51.1542194521...\n",
       "4    17965.0  {\"rings\": [[[-114.17248939696805, 51.069554937..."
      ]
     },
     "execution_count": 22,
     "metadata": {},
     "output_type": "execute_result"
    }
   ],
   "source": [
    "sdf[['Immigrant', 'SHAPE']].head()"
   ]
  },
  {
   "cell_type": "markdown",
   "metadata": {},
   "source": [
    "We can plot the SDF into a map. In order to do this, we need to use the [GIS module](https://developers.arcgis.com/python/guide/the-gis-module/) from ArcGIS."
   ]
  },
  {
   "cell_type": "code",
   "execution_count": 23,
   "metadata": {
    "scrolled": true
   },
   "outputs": [
    {
     "data": {
      "application/vnd.jupyter.widget-view+json": {
       "model_id": "f439eed984914a1ba2c6c4fb6f9befba",
       "version_major": 2,
       "version_minor": 0
      },
      "text/plain": [
       "MapView(layout=Layout(height='400px', width='100%'))"
      ]
     },
     "metadata": {},
     "output_type": "display_data"
    },
    {
     "data": {
      "text/html": [
       "<div class=\"map-static-img-preview-fc419684-308b-4861-902d-c90593dfab28\"><img src=\"\"></img></div>"
      ],
      "text/plain": [
       "<IPython.core.display.HTML object>"
      ]
     },
     "metadata": {},
     "output_type": "display_data"
    },
    {
     "data": {
      "text/html": [
       "<div class=\"map-html-embed-preview-fc419684-308b-4861-902d-c90593dfab28\"></div>"
      ],
      "text/plain": [
       "<IPython.core.display.HTML object>"
      ]
     },
     "metadata": {},
     "output_type": "display_data"
    }
   ],
   "source": [
    "from arcgis.gis import GIS\n",
    "\n",
    "m1 = GIS().map(\"Calgary\")\n",
    "m1"
   ]
  },
  {
   "cell_type": "markdown",
   "metadata": {},
   "source": [
    "We can check the Coordinate Reference System of our dataset before plotting:"
   ]
  },
  {
   "cell_type": "code",
   "execution_count": 24,
   "metadata": {},
   "outputs": [
    {
     "data": {
      "text/plain": [
       "{'wkid': 4326}"
      ]
     },
     "execution_count": 24,
     "metadata": {},
     "output_type": "execute_result"
    }
   ],
   "source": [
    "sdf.spatial.sr"
   ]
  },
  {
   "cell_type": "markdown",
   "metadata": {},
   "source": [
    "We can now generate a map visualization of the dataset, based on the Immigrant Column."
   ]
  },
  {
   "cell_type": "code",
   "execution_count": 25,
   "metadata": {},
   "outputs": [
    {
     "data": {
      "text/plain": [
       "True"
      ]
     },
     "execution_count": 25,
     "metadata": {},
     "output_type": "execute_result"
    }
   ],
   "source": [
    "sdf.spatial.plot(map_widget=m1,\n",
    "               renderer_type='c',  # for class breaks renderer\n",
    "               method='esriClassifyNaturalBreaks',  # classification algorithm\n",
    "               class_count=20,  # choose the number of classes\n",
    "               col='Immigrant',  # numeric column to classify\n",
    "               cmap='prism',  # color map to pick colors from for each class\n",
    "               alpha=0.7  # specify opacity\n",
    "               )"
   ]
  },
  {
   "cell_type": "markdown",
   "metadata": {},
   "source": [
    "After running the previous cell, you will be able to see the dataset on the map."
   ]
  },
  {
   "cell_type": "code",
   "execution_count": 26,
   "metadata": {},
   "outputs": [
    {
     "data": {
      "application/vnd.jupyter.widget-view+json": {
       "model_id": "f439eed984914a1ba2c6c4fb6f9befba",
       "version_major": 2,
       "version_minor": 0
      },
      "text/plain": [
       "MapView(jupyter_target='notebook', layout=Layout(height='400px', width='100%'), ready=True)"
      ]
     },
     "metadata": {},
     "output_type": "display_data"
    },
    {
     "data": {
      "text/html": [
       "<div class=\"map-static-img-preview-fc419684-308b-4861-902d-c90593dfab28\"><img src=\"\"></img></div>"
      ],
      "text/plain": [
       "<IPython.core.display.HTML object>"
      ]
     },
     "metadata": {},
     "output_type": "display_data"
    },
    {
     "data": {
      "text/html": [
       "<div class=\"map-html-embed-preview-fc419684-308b-4861-902d-c90593dfab28\"></div>"
      ],
      "text/plain": [
       "<IPython.core.display.HTML object>"
      ]
     },
     "metadata": {},
     "output_type": "display_data"
    }
   ],
   "source": [
    "m1"
   ]
  },
  {
   "cell_type": "markdown",
   "metadata": {},
   "source": [
    "SDFs provide [multiple ways to visualize and interact with data](https://developers.arcgis.com/python/guide/visualizing-data-with-the-spatially-enabled-dataframe/). You can create class breaks or generate histograms. Check the following code for reference."
   ]
  },
  {
   "cell_type": "code",
   "execution_count": 27,
   "metadata": {},
   "outputs": [
    {
     "name": "stdout",
     "output_type": "stream",
     "text": [
      "10835.0 - 12708.421052631578\n",
      "12708.421052631578 - 14581.842105263158\n",
      "14581.842105263158 - 16455.263157894737\n",
      "16455.263157894737 - 18328.684210526317\n",
      "18328.684210526317 - 20202.105263157893\n",
      "20202.105263157893 - 22075.526315789473\n",
      "22075.526315789473 - 23948.947368421053\n",
      "23948.947368421053 - 25822.368421052633\n",
      "25822.368421052633 - 27695.78947368421\n",
      "27695.78947368421 - 29569.21052631579\n",
      "29569.21052631579 - 31442.63157894737\n",
      "31442.63157894737 - 33316.05263157895\n",
      "33316.05263157895 - 35189.47368421053\n",
      "35189.47368421053 - 37062.89473684211\n",
      "37062.89473684211 - 38936.31578947368\n",
      "38936.31578947368 - 40809.73684210527\n",
      "40809.73684210527 - 42683.15789473684\n",
      "42683.15789473684 - 44556.57894736842\n",
      "44556.57894736842 - 46430.0\n",
      "46430.0 - 46430.0\n"
     ]
    }
   ],
   "source": [
    "class_breaks = m1.layers[0].layer.layerDefinition.drawingInfo.renderer.classBreakInfos\n",
    "\n",
    "cbs_list = []\n",
    "cmap_list = []\n",
    "for cb in class_breaks:\n",
    "    print(cb.description)  # print the class break labels\n",
    "    cbs_list.append(cb.classMaxValue)\n",
    "    cmap_list.append([x/255.0 for x in cb.symbol.color])"
   ]
  },
  {
   "cell_type": "code",
   "execution_count": 28,
   "metadata": {
    "scrolled": false
   },
   "outputs": [
    {
     "data": {
      "text/plain": [
       "Text(0.5, 1.0, 'Histogram of Inmigrant column')"
      ]
     },
     "execution_count": 28,
     "metadata": {},
     "output_type": "execute_result"
    },
    {
     "data": {
      "image/png": "[encoded data removed]",
      "text/plain": [
       "<Figure size 432x288 with 1 Axes>"
      ]
     },
     "metadata": {
      "needs_background": "light"
     },
     "output_type": "display_data"
    }
   ],
   "source": [
    "import matplotlib.pyplot as plt\n",
    "# build a histogram for the same class breaks\n",
    "n, bins, patches = plt.hist(sdf['Immigrant'], bins=cbs_list)\n",
    "\n",
    "# apply the same color for each class to match the map\n",
    "idx = 0\n",
    "for c, p in zip(bins, patches):\n",
    "    plt.setp(p, 'facecolor', cmap_list[idx])\n",
    "    idx+=1\n",
    "\n",
    "plt.title('Histogram of Inmigrant column')"
   ]
  },
  {
   "cell_type": "markdown",
   "metadata": {},
   "source": [
    "### Exporting Spatially Enabled Dataframes"
   ]
  },
  {
   "cell_type": "markdown",
   "metadata": {},
   "source": [
    "#### To Feature Class"
   ]
  },
  {
   "cell_type": "markdown",
   "metadata": {},
   "source": [
    "You can export a Spatially Enabled Dataframe into a Shapefile. This will generated a file in your system."
   ]
  },
  {
   "cell_type": "code",
   "execution_count": 29,
   "metadata": {},
   "outputs": [],
   "source": [
    "fclass=sdf.spatial.to_featureclass(\"./data/vector/census_by_ward\")"
   ]
  },
  {
   "cell_type": "markdown",
   "metadata": {},
   "source": [
    "#### To Feature Layer"
   ]
  },
  {
   "cell_type": "markdown",
   "metadata": {},
   "source": [
    "You can also publish this data to a Feature Layer in your ArcGIS account. In order to perform this step, you will need an ArcGIS online account and credentials. We used our own account:"
   ]
  },
  {
   "cell_type": "code",
   "execution_count": 30,
   "metadata": {},
   "outputs": [
    {
     "name": "stdout",
     "output_type": "stream",
     "text": [
      "Enter password: ········\n"
     ]
    }
   ],
   "source": [
    "from arcgis.gis import GIS\n",
    "    \n",
    "# connect as an anonymous user\n",
    "gis = GIS(\"https://ucalgary.maps.arcgis.com\", username=\"mingke.li_ucalgary\")\n",
    "\n",
    "user = gis.users.get('mingke.li_ucalgary')"
   ]
  },
  {
   "cell_type": "markdown",
   "metadata": {},
   "source": [
    "Now we can import data from the SDF. You can give it a title and indicate the folder were you want to publish the feature layer."
   ]
  },
  {
   "cell_type": "code",
   "execution_count": 31,
   "metadata": {},
   "outputs": [],
   "source": [
    "item = gis.content.import_data(df=sdf, title=\"Cesus\", folder=\"data\")"
   ]
  },
  {
   "cell_type": "code",
   "execution_count": 32,
   "metadata": {
    "scrolled": true
   },
   "outputs": [
    {
     "data": {
      "text/html": [
       "<div class=\"item_container\" style=\"height: auto; overflow: hidden; border: 1px solid #cfcfcf; border-radius: 2px; background: #f6fafa; line-height: 1.21429em; padding: 10px;\">\n",
       "                    <div class=\"item_left\" style=\"width: 210px; float: left;\">\n",
       "                       <a href='https://ucalgary.maps.arcgis.com/home/item.html?id=0a9647d120734505aa56c2b0ee3cc9fa' target='_blank'>\n",
       "                        <img src='http://static.arcgis.com/images/desktopapp.png' class=\"itemThumbnail\">\n",
       "                       </a>\n",
       "                    </div>\n",
       "\n",
       "                    <div class=\"item_right\"     style=\"float: none; width: auto; overflow: hidden;\">\n",
       "                        <a href='https://ucalgary.maps.arcgis.com/home/item.html?id=0a9647d120734505aa56c2b0ee3cc9fa' target='_blank'><b>Cesus</b>\n",
       "                        </a>\n",
       "                        <br/><img src='https://ucalgary.maps.arcgis.com/home/js/jsapi/esri/css/images/item_type_icons/featureshosted16.png' style=\"vertical-align:middle;\">Feature Layer Collection by mingke.li_ucalgary\n",
       "                        <br/>Last Modified: April 04, 2021\n",
       "                        <br/>0 comments, 0 views\n",
       "                    </div>\n",
       "                </div>\n",
       "                "
      ],
      "text/plain": [
       "<Item title:\"Cesus\" type:Feature Layer Collection owner:mingke.li_ucalgary>"
      ]
     },
     "execution_count": 32,
     "metadata": {},
     "output_type": "execute_result"
    }
   ],
   "source": [
    "item"
   ]
  },
  {
   "cell_type": "markdown",
   "metadata": {},
   "source": [
    "You can now interact with this Item in the notebook. For example, the feature layers are contained within the layers attribute of the item."
   ]
  },
  {
   "cell_type": "code",
   "execution_count": 33,
   "metadata": {},
   "outputs": [
    {
     "name": "stdout",
     "output_type": "stream",
     "text": [
      "<FeatureLayer url:\"https://services2.arcgis.com/XSv3KNGfmrd1txPN/arcgis/rest/services/ad91f9/FeatureServer/0\">\n"
     ]
    }
   ],
   "source": [
    "print(item.layers[0])"
   ]
  }
 ],
 "metadata": {
  "kernelspec": {
   "display_name": "Python 3",
   "language": "python",
   "name": "python3"
  },
  "language_info": {
   "codemirror_mode": {
    "name": "ipython",
    "version": 3
   },
   "file_extension": ".py",
   "mimetype": "text/x-python",
   "name": "python",
   "nbconvert_exporter": "python",
   "pygments_lexer": "ipython3",
   "version": "3.8.8"
  },
  "toc": {
   "base_numbering": 1,
   "nav_menu": {},
   "number_sections": true,
   "sideBar": true,
   "skip_h1_title": true,
   "title_cell": "Table of Contents",
   "title_sidebar": "Contents",
   "toc_cell": false,
   "toc_position": {
    "height": "calc(100% - 180px)",
    "left": "10px",
    "top": "150px",
    "width": "369.757px"
   },
   "toc_section_display": true,
   "toc_window_display": true
  }
 },
 "nbformat": 4,
 "nbformat_minor": 4
}
